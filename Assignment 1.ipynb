{
 "cells": [
  {
   "cell_type": "markdown",
   "id": "639550b4",
   "metadata": {},
   "source": [
    "# 1"
   ]
  },
  {
   "cell_type": "code",
   "execution_count": 2,
   "id": "c302719c",
   "metadata": {},
   "outputs": [
    {
     "name": "stdout",
     "output_type": "stream",
     "text": [
      "Before swap x: 50 and y: 10\n",
      "After swap x: 10 and y: 50\n"
     ]
    }
   ],
   "source": [
    "x = 50\n",
    "y = 10\n",
    "def swap_variables(x,y):\n",
    "  print(f\"Before swap x: {x} and y: {y}\")\n",
    "  x,y = y, x\n",
    "  print(f\"After swap x: {x} and y: {y}\")\n",
    "\n",
    "swap_variables(x,y)"
   ]
  },
  {
   "cell_type": "markdown",
   "id": "51cbe61d",
   "metadata": {},
   "source": [
    "# 2"
   ]
  },
  {
   "cell_type": "code",
   "execution_count": 6,
   "id": "dc2f3b17",
   "metadata": {},
   "outputs": [
    {
     "name": "stdout",
     "output_type": "stream",
     "text": [
      "Enter the length : 3\n",
      "Enter the width  1\n",
      "The area of the rectangle is: 3\n"
     ]
    }
   ],
   "source": [
    "length = int(input(\"Enter the length : \")) \n",
    "width = int(input(\"Enter the width  \"))  \n",
    "area = length * width \n",
    "print(\"The area of the rectangle is:\", area) "
   ]
  },
  {
   "cell_type": "markdown",
   "id": "fdbd85a1",
   "metadata": {},
   "source": [
    "# 3"
   ]
  },
  {
   "cell_type": "code",
   "execution_count": null,
   "id": "5ea232b9",
   "metadata": {},
   "outputs": [],
   "source": [
    "celsius_temp = float(input(\"Enter temperature in Celsius: \"))\n",
    "fahrenheit_tempe = (celsius_temp * 9/5) + 32\n",
    "print(f\"{celsius_tempe} Celsius is equal to {fahrenheit_tempe:.2f} Fahrenheit\")"
   ]
  },
  {
   "cell_type": "markdown",
   "id": "f278a858",
   "metadata": {},
   "source": [
    "# 4"
   ]
  },
  {
   "cell_type": "code",
   "execution_count": null,
   "id": "e3f059b8",
   "metadata": {},
   "outputs": [],
   "source": [
    "input_string = input(\"Enter a string: \")\n",
    "string_length = len(input_string)\n",
    "print(\"The length of the input string is:\", string_length)"
   ]
  },
  {
   "cell_type": "code",
   "execution_count": null,
   "id": "f37aaba2",
   "metadata": {},
   "outputs": [],
   "source": [
    "5"
   ]
  },
  {
   "cell_type": "code",
   "execution_count": null,
   "id": "eb9cf099",
   "metadata": {},
   "outputs": [],
   "source": [
    "input_string = input(\"Enter a string: \")\n",
    "rev_string = input_string[::-1]\n",
    "print(\"Reversed string:\", rev\n",
    "input_string = input(\"Enter a string: \")\n",
    "modified_string = \"\"\n",
    "for char in input_string:\n",
    "    if char != \" \":\n",
    "          modified_string += char\n",
    "print(\"Modified string without spaces:\", modified_string)_string)"
   ]
  },
  {
   "cell_type": "code",
   "execution_count": null,
   "id": "28cf7f91",
   "metadata": {},
   "outputs": [],
   "source": []
  }
 ],
 "metadata": {
  "kernelspec": {
   "display_name": "Python 3 (ipykernel)",
   "language": "python",
   "name": "python3"
  },
  "language_info": {
   "codemirror_mode": {
    "name": "ipython",
    "version": 3
   },
   "file_extension": ".py",
   "mimetype": "text/x-python",
   "name": "python",
   "nbconvert_exporter": "python",
   "pygments_lexer": "ipython3",
   "version": "3.10.9"
  }
 },
 "nbformat": 4,
 "nbformat_minor": 5
}
